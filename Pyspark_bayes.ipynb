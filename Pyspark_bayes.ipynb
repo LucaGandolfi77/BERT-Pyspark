{
  "nbformat": 4,
  "nbformat_minor": 0,
  "metadata": {
    "colab": {
      "name": "Pyspark-bayes.ipynb",
      "provenance": []
    },
    "kernelspec": {
      "name": "python3",
      "display_name": "Python 3"
    },
    "language_info": {
      "name": "python"
    }
  },
  "cells": [
    {
      "cell_type": "code",
      "metadata": {
        "colab": {
          "base_uri": "https://localhost:8080/"
        },
        "id": "RTRnRfgoO2Rs",
        "outputId": "d9ac5c99-7f5c-42e5-a6d7-18630d193b5e"
      },
      "source": [
        "!pip install pyspark"
      ],
      "execution_count": null,
      "outputs": [
        {
          "output_type": "stream",
          "name": "stdout",
          "text": [
            "Collecting pyspark\n",
            "  Downloading pyspark-3.1.2.tar.gz (212.4 MB)\n",
            "\u001b[K     |████████████████████████████████| 212.4 MB 66 kB/s \n",
            "\u001b[?25hCollecting py4j==0.10.9\n",
            "  Downloading py4j-0.10.9-py2.py3-none-any.whl (198 kB)\n",
            "\u001b[K     |████████████████████████████████| 198 kB 67.1 MB/s \n",
            "\u001b[?25hBuilding wheels for collected packages: pyspark\n",
            "  Building wheel for pyspark (setup.py) ... \u001b[?25l\u001b[?25hdone\n",
            "  Created wheel for pyspark: filename=pyspark-3.1.2-py2.py3-none-any.whl size=212880768 sha256=e37e96b1d01db1c07c6261b6d042f045ca5b2bb5b51afa5801606b6161690868\n",
            "  Stored in directory: /root/.cache/pip/wheels/a5/0a/c1/9561f6fecb759579a7d863dcd846daaa95f598744e71b02c77\n",
            "Successfully built pyspark\n",
            "Installing collected packages: py4j, pyspark\n",
            "Successfully installed py4j-0.10.9 pyspark-3.1.2\n"
          ]
        }
      ]
    },
    {
      "cell_type": "code",
      "metadata": {
        "id": "7ykzet9APCjd",
        "colab": {
          "base_uri": "https://localhost:8080/"
        },
        "outputId": "e836e21f-77fd-407f-81b6-25ba3565afd1"
      },
      "source": [
        "import numpy as np\n",
        "import pandas as pd\n",
        "import matplotlib.pyplot as plt\n",
        "import seaborn as sns\n",
        "\n",
        "import io\n",
        "#from google.colab import drive \n",
        "\n",
        "from sklearn import preprocessing\n",
        "from imblearn.over_sampling import RandomOverSampler\n",
        "from sklearn.feature_extraction.text import TfidfVectorizer\n",
        "\n",
        "from sklearn.metrics import accuracy_score, f1_score\n",
        "from sklearn.metrics import classification_report\n",
        "\n",
        "from sklearn.naive_bayes import MultinomialNB\n",
        "from sklearn.pipeline import make_pipeline\n",
        "from sklearn.metrics import confusion_matrix, accuracy_score"
      ],
      "execution_count": null,
      "outputs": [
        {
          "output_type": "stream",
          "name": "stderr",
          "text": [
            "/usr/local/lib/python3.7/dist-packages/sklearn/externals/six.py:31: FutureWarning: The module is deprecated in version 0.21 and will be removed in version 0.23 since we've dropped support for Python 2.7. Please rely on the official version of six (https://pypi.org/project/six/).\n",
            "  \"(https://pypi.org/project/six/).\", FutureWarning)\n",
            "/usr/local/lib/python3.7/dist-packages/sklearn/utils/deprecation.py:144: FutureWarning: The sklearn.neighbors.base module is  deprecated in version 0.22 and will be removed in version 0.24. The corresponding classes / functions should instead be imported from sklearn.neighbors. Anything that cannot be imported from sklearn.neighbors is now part of the private API.\n",
            "  warnings.warn(message, FutureWarning)\n"
          ]
        }
      ]
    },
    {
      "cell_type": "code",
      "metadata": {
        "colab": {
          "base_uri": "https://localhost:8080/"
        },
        "id": "DoAh-eu0PEr9",
        "outputId": "20304ded-1e45-4412-ea53-94e7f779d63a"
      },
      "source": [
        "from google.colab import drive \n",
        "drive.mount('/content/gdrive')"
      ],
      "execution_count": null,
      "outputs": [
        {
          "output_type": "stream",
          "name": "stdout",
          "text": [
            "Mounted at /content/gdrive\n"
          ]
        }
      ]
    },
    {
      "cell_type": "code",
      "metadata": {
        "id": "GaSpfIcMPG24"
      },
      "source": [
        "import pyspark\n",
        "from pyspark.sql import SparkSession\n",
        "from pyspark.sql.types import StructType,StructField, StringType, IntegerType\n",
        "import pyspark.sql.types\n",
        "spark=SparkSession.builder.appName('Train').getOrCreate()\n",
        "#spark2=SparkSession.builder.appName('Train2').getOrCreate()"
      ],
      "execution_count": null,
      "outputs": []
    },
    {
      "cell_type": "code",
      "metadata": {
        "id": "5EkDSR8IPIwO"
      },
      "source": [
        "df_train = spark.read.format('csv').option('delimiter',';').load('gdrive/My Drive/BERT/train.txt')\n",
        "df_train=df_train.withColumnRenamed(\"_c0\",\"text\")\n",
        "df_train=df_train.withColumnRenamed(\"_c1\",\"emotion\")\n",
        "#df_train.show()"
      ],
      "execution_count": null,
      "outputs": []
    },
    {
      "cell_type": "code",
      "metadata": {
        "id": "2F8O8ty7ZoQX"
      },
      "source": [
        "df_val = spark.read.format('csv').option('delimiter',';').load('gdrive/My Drive/BERT/val.txt')\n",
        "df_val=df_val.withColumnRenamed(\"_c0\",\"text\")\n",
        "df_val=df_val.withColumnRenamed(\"_c1\",\"emotion\")\n",
        "#df_val.show()"
      ],
      "execution_count": null,
      "outputs": []
    },
    {
      "cell_type": "code",
      "metadata": {
        "id": "cpmpJ55eaAN_"
      },
      "source": [
        "df_test = spark.read.format('csv').option('delimiter',';').load('gdrive/My Drive/BERT/test.txt')\n",
        "df_test=df_test.withColumnRenamed(\"_c0\",\"text\")\n",
        "df_test=df_test.withColumnRenamed(\"_c1\",\"emotion\")\n",
        "#df_val.show()"
      ],
      "execution_count": null,
      "outputs": []
    },
    {
      "cell_type": "code",
      "metadata": {
        "colab": {
          "base_uri": "https://localhost:8080/"
        },
        "id": "NG0ffTfcPLRr",
        "outputId": "39dbec88-2551-42e4-a612-e643edd36aea"
      },
      "source": [
        "df_train.groupBy(\"emotion\").count().sort(\"count\",ascending=True).show()\n",
        "df_train.count()"
      ],
      "execution_count": null,
      "outputs": [
        {
          "output_type": "stream",
          "name": "stdout",
          "text": [
            "+--------+-----+\n",
            "| emotion|count|\n",
            "+--------+-----+\n",
            "|surprise|  572|\n",
            "|    love| 1304|\n",
            "|    fear| 1937|\n",
            "|   anger| 2159|\n",
            "| sadness| 4666|\n",
            "|     joy| 5362|\n",
            "+--------+-----+\n",
            "\n"
          ]
        },
        {
          "output_type": "execute_result",
          "data": {
            "text/plain": [
              "16000"
            ]
          },
          "metadata": {},
          "execution_count": 8
        }
      ]
    },
    {
      "cell_type": "code",
      "metadata": {
        "id": "bW97eYmhPQ_d"
      },
      "source": [
        "emotions = ['surprise','love','fear','anger','sadness','joy']\n",
        "emotion_count=[]\n",
        "\n",
        "emomax = int(0)\n",
        "for emo in emotions:\n",
        "  for emoo in emotions:\n",
        "    if df_train[df_train['emotion']==emoo].count() > df_train[df_train['emotion']==emo].count():\n",
        "      emomax = df_train[df_train['emotion']==emoo].count()\n",
        "  num_emo = df_train[df_train['emotion']==emo].count()\n",
        "  emotion_count.append(emomax/num_emo)"
      ],
      "execution_count": null,
      "outputs": []
    },
    {
      "cell_type": "code",
      "metadata": {
        "id": "ewmArz7RPhB2"
      },
      "source": [
        "emotions_ratios = [int(np.round(x)) for x in emotion_count]"
      ],
      "execution_count": null,
      "outputs": []
    },
    {
      "cell_type": "code",
      "metadata": {
        "id": "xyvQ1DBePhK-"
      },
      "source": [
        "from pyspark.sql.functions import col, explode, array, lit"
      ],
      "execution_count": null,
      "outputs": []
    },
    {
      "cell_type": "code",
      "metadata": {
        "colab": {
          "base_uri": "https://localhost:8080/"
        },
        "id": "j2jme25gPxrH",
        "outputId": "3887c9b2-53cd-47ad-97d4-b87f83eee2b5"
      },
      "source": [
        "index = 0\n",
        "for emotion in emotions: #scegli emozione \n",
        "  df_emo = df_train.filter(col('emotion')==emotion)\n",
        "  print(index,emotion)\n",
        "  a = range(emotions_ratios[index]-1)\n",
        "  df_emo_od = df_emo.withColumn(\"dummy\", explode(array([lit(x) for x in a]))).drop('dummy')\n",
        "  df_train = df_train.union(df_emo_od)\n",
        "  index+=1"
      ],
      "execution_count": null,
      "outputs": [
        {
          "output_type": "stream",
          "name": "stdout",
          "text": [
            "0 surprise\n",
            "1 love\n",
            "2 fear\n",
            "3 anger\n",
            "4 sadness\n",
            "5 joy\n"
          ]
        }
      ]
    },
    {
      "cell_type": "code",
      "metadata": {
        "colab": {
          "base_uri": "https://localhost:8080/"
        },
        "id": "MEmFvBNUP0M7",
        "outputId": "4e83189b-6475-4ea4-9880-5b4512c3d48a"
      },
      "source": [
        "df_train.groupBy(\"emotion\").count().sort(\"count\",ascending=True).show()\n",
        "df_train.count()"
      ],
      "execution_count": null,
      "outputs": [
        {
          "output_type": "stream",
          "name": "stdout",
          "text": [
            "+--------+-----+\n",
            "| emotion|count|\n",
            "+--------+-----+\n",
            "|   anger| 4318|\n",
            "| sadness| 4666|\n",
            "|surprise| 5148|\n",
            "|    love| 5216|\n",
            "|     joy| 5362|\n",
            "|    fear| 5811|\n",
            "+--------+-----+\n",
            "\n"
          ]
        },
        {
          "output_type": "execute_result",
          "data": {
            "text/plain": [
              "30521"
            ]
          },
          "metadata": {},
          "execution_count": 13
        }
      ]
    },
    {
      "cell_type": "code",
      "metadata": {
        "id": "4kKqel_EP21m"
      },
      "source": [
        "from pyspark.ml.feature import OneHotEncoder, StringIndexer"
      ],
      "execution_count": null,
      "outputs": []
    },
    {
      "cell_type": "code",
      "metadata": {
        "id": "f5PWtrNX_Dj7"
      },
      "source": [
        "def ohe_encoder(df1):\n",
        "  indexer = StringIndexer(inputCol=\"emotion\", outputCol=\"emo_ohe2\").fit(df1)\n",
        "  df1 = indexer.transform(df1)\n",
        "  ohe = OneHotEncoder()\n",
        "  ohe.setInputCols([\"emo_ohe2\"])\n",
        "  ohe.setOutputCols([\"emo_ohe\"])\n",
        "  model = ohe.fit(df1)\n",
        "  df1 = model.transform(df1)\n",
        "  df1 = df1.drop('emotion')\n",
        "  df1 = df1.drop('emo_ohe2')\n",
        "  return df1"
      ],
      "execution_count": null,
      "outputs": []
    },
    {
      "cell_type": "code",
      "metadata": {
        "id": "Y_O_z44MAnho"
      },
      "source": [
        "#df_train = ohe_encoder(df_train)\n",
        "#df_val = ohe_encoder(df_val)\n",
        "#df_test = ohe_encoder(df_test)"
      ],
      "execution_count": null,
      "outputs": []
    },
    {
      "cell_type": "code",
      "metadata": {
        "id": "rEtLsZ0FQDFi"
      },
      "source": [
        "from pyspark.ml.linalg import Vectors"
      ],
      "execution_count": null,
      "outputs": []
    },
    {
      "cell_type": "code",
      "metadata": {
        "colab": {
          "base_uri": "https://localhost:8080/"
        },
        "id": "0cO46j-DQXVA",
        "outputId": "ca1affaa-1bdb-4ec2-ba5b-ba0399ce60a2"
      },
      "source": [
        "df_train.show()"
      ],
      "execution_count": null,
      "outputs": [
        {
          "output_type": "stream",
          "name": "stdout",
          "text": [
            "+--------------------+--------+\n",
            "|                text| emotion|\n",
            "+--------------------+--------+\n",
            "|i didnt feel humi...| sadness|\n",
            "|i can go from fee...| sadness|\n",
            "|im grabbing a min...|   anger|\n",
            "|i am ever feeling...|    love|\n",
            "|i am feeling grouchy|   anger|\n",
            "|ive been feeling ...| sadness|\n",
            "|ive been taking o...|surprise|\n",
            "|i feel as confuse...|    fear|\n",
            "|i have been with ...|     joy|\n",
            "| i feel romantic too|    love|\n",
            "|i feel like i hav...| sadness|\n",
            "|i do feel that ru...|     joy|\n",
            "|i think it s the ...|   anger|\n",
            "|i feel low energy...| sadness|\n",
            "|i have immense sy...|     joy|\n",
            "|i do not feel rea...|     joy|\n",
            "|i didnt really fe...| sadness|\n",
            "|i feel pretty pat...| sadness|\n",
            "|i started feeling...| sadness|\n",
            "|i now feel compro...|    fear|\n",
            "+--------------------+--------+\n",
            "only showing top 20 rows\n",
            "\n"
          ]
        }
      ]
    },
    {
      "cell_type": "code",
      "metadata": {
        "colab": {
          "base_uri": "https://localhost:8080/"
        },
        "id": "L3bmwXEkzoRE",
        "outputId": "bfef3fdf-4047-47a5-d1fb-4bc8455c022e"
      },
      "source": [
        "train_data = df_train.toPandas()\n",
        "print(train_data)"
      ],
      "execution_count": null,
      "outputs": [
        {
          "output_type": "stream",
          "name": "stdout",
          "text": [
            "                                                    text  emotion\n",
            "0                                i didnt feel humiliated  sadness\n",
            "1      i can go from feeling so hopeless to so damned...  sadness\n",
            "2       im grabbing a minute to post i feel greedy wrong    anger\n",
            "3      i am ever feeling nostalgic about the fireplac...     love\n",
            "4                                   i am feeling grouchy    anger\n",
            "...                                                  ...      ...\n",
            "30516          i have a feeling im going to be heartless    anger\n",
            "30517  i often find my self feeling offended myself w...    anger\n",
            "30518  i took a minute to appreciate the trees around...    anger\n",
            "30519  i moved away he said something that made me fe...    anger\n",
            "30520  i feel like this was such a rude comment and i...    anger\n",
            "\n",
            "[30521 rows x 2 columns]\n"
          ]
        }
      ]
    },
    {
      "cell_type": "code",
      "metadata": {
        "colab": {
          "base_uri": "https://localhost:8080/"
        },
        "id": "rmrWzfjBE_LX",
        "outputId": "3277bba3-8368-4273-d9f1-0676a8f20122"
      },
      "source": [
        "val_data = df_val.toPandas()\n",
        "print(train_data)"
      ],
      "execution_count": null,
      "outputs": [
        {
          "output_type": "stream",
          "name": "stdout",
          "text": [
            "                                                    text  emotion\n",
            "0                                i didnt feel humiliated  sadness\n",
            "1      i can go from feeling so hopeless to so damned...  sadness\n",
            "2       im grabbing a minute to post i feel greedy wrong    anger\n",
            "3      i am ever feeling nostalgic about the fireplac...     love\n",
            "4                                   i am feeling grouchy    anger\n",
            "...                                                  ...      ...\n",
            "30516          i have a feeling im going to be heartless    anger\n",
            "30517  i often find my self feeling offended myself w...    anger\n",
            "30518  i took a minute to appreciate the trees around...    anger\n",
            "30519  i moved away he said something that made me fe...    anger\n",
            "30520  i feel like this was such a rude comment and i...    anger\n",
            "\n",
            "[30521 rows x 2 columns]\n"
          ]
        }
      ]
    },
    {
      "cell_type": "code",
      "metadata": {
        "colab": {
          "base_uri": "https://localhost:8080/"
        },
        "id": "LSmTBn6XE_zT",
        "outputId": "503baa61-c2f4-4f93-f8e0-8dfcd86626be"
      },
      "source": [
        "test_data = df_test.toPandas()\n",
        "print(train_data)"
      ],
      "execution_count": null,
      "outputs": [
        {
          "output_type": "stream",
          "name": "stdout",
          "text": [
            "                                                    text  emotion\n",
            "0                                i didnt feel humiliated  sadness\n",
            "1      i can go from feeling so hopeless to so damned...  sadness\n",
            "2       im grabbing a minute to post i feel greedy wrong    anger\n",
            "3      i am ever feeling nostalgic about the fireplac...     love\n",
            "4                                   i am feeling grouchy    anger\n",
            "...                                                  ...      ...\n",
            "30516          i have a feeling im going to be heartless    anger\n",
            "30517  i often find my self feeling offended myself w...    anger\n",
            "30518  i took a minute to appreciate the trees around...    anger\n",
            "30519  i moved away he said something that made me fe...    anger\n",
            "30520  i feel like this was such a rude comment and i...    anger\n",
            "\n",
            "[30521 rows x 2 columns]\n"
          ]
        }
      ]
    },
    {
      "cell_type": "code",
      "metadata": {
        "colab": {
          "base_uri": "https://localhost:8080/"
        },
        "id": "jPW6qSb81s1R",
        "outputId": "30d7e4ff-d3c2-4289-8732-efef89bbb809"
      },
      "source": [
        "train_data.info()"
      ],
      "execution_count": null,
      "outputs": [
        {
          "output_type": "stream",
          "name": "stdout",
          "text": [
            "<class 'pandas.core.frame.DataFrame'>\n",
            "RangeIndex: 30521 entries, 0 to 30520\n",
            "Data columns (total 2 columns):\n",
            " #   Column   Non-Null Count  Dtype \n",
            "---  ------   --------------  ----- \n",
            " 0   text     30521 non-null  object\n",
            " 1   emotion  30521 non-null  object\n",
            "dtypes: object(2)\n",
            "memory usage: 477.0+ KB\n"
          ]
        }
      ]
    },
    {
      "cell_type": "code",
      "metadata": {
        "colab": {
          "base_uri": "https://localhost:8080/",
          "height": 204
        },
        "id": "E9RYEDye2QWW",
        "outputId": "6ce866c1-fd3d-47c0-ccd0-99ec3d23bb73"
      },
      "source": [
        "train_data.head()"
      ],
      "execution_count": null,
      "outputs": [
        {
          "output_type": "execute_result",
          "data": {
            "text/html": [
              "<div>\n",
              "<style scoped>\n",
              "    .dataframe tbody tr th:only-of-type {\n",
              "        vertical-align: middle;\n",
              "    }\n",
              "\n",
              "    .dataframe tbody tr th {\n",
              "        vertical-align: top;\n",
              "    }\n",
              "\n",
              "    .dataframe thead th {\n",
              "        text-align: right;\n",
              "    }\n",
              "</style>\n",
              "<table border=\"1\" class=\"dataframe\">\n",
              "  <thead>\n",
              "    <tr style=\"text-align: right;\">\n",
              "      <th></th>\n",
              "      <th>text</th>\n",
              "      <th>emotion</th>\n",
              "    </tr>\n",
              "  </thead>\n",
              "  <tbody>\n",
              "    <tr>\n",
              "      <th>0</th>\n",
              "      <td>i didnt feel humiliated</td>\n",
              "      <td>sadness</td>\n",
              "    </tr>\n",
              "    <tr>\n",
              "      <th>1</th>\n",
              "      <td>i can go from feeling so hopeless to so damned...</td>\n",
              "      <td>sadness</td>\n",
              "    </tr>\n",
              "    <tr>\n",
              "      <th>2</th>\n",
              "      <td>im grabbing a minute to post i feel greedy wrong</td>\n",
              "      <td>anger</td>\n",
              "    </tr>\n",
              "    <tr>\n",
              "      <th>3</th>\n",
              "      <td>i am ever feeling nostalgic about the fireplac...</td>\n",
              "      <td>love</td>\n",
              "    </tr>\n",
              "    <tr>\n",
              "      <th>4</th>\n",
              "      <td>i am feeling grouchy</td>\n",
              "      <td>anger</td>\n",
              "    </tr>\n",
              "  </tbody>\n",
              "</table>\n",
              "</div>"
            ],
            "text/plain": [
              "                                                text  emotion\n",
              "0                            i didnt feel humiliated  sadness\n",
              "1  i can go from feeling so hopeless to so damned...  sadness\n",
              "2   im grabbing a minute to post i feel greedy wrong    anger\n",
              "3  i am ever feeling nostalgic about the fireplac...     love\n",
              "4                               i am feeling grouchy    anger"
            ]
          },
          "metadata": {},
          "execution_count": 23
        }
      ]
    },
    {
      "cell_type": "code",
      "metadata": {
        "id": "X69LXagn2XHq"
      },
      "source": [
        "y_train=np.array(train_data['emotion'])\n",
        "y_test=np.array(test_data['emotion'])\n",
        "y_val=np.array(val_data['emotion'])"
      ],
      "execution_count": null,
      "outputs": []
    },
    {
      "cell_type": "code",
      "metadata": {
        "id": "JMP-sluJcx2k",
        "colab": {
          "base_uri": "https://localhost:8080/"
        },
        "outputId": "92a4b0d5-f0ac-4623-d646-62b48b060cee"
      },
      "source": [
        "train_data['emotion'].value_counts()"
      ],
      "execution_count": null,
      "outputs": [
        {
          "output_type": "execute_result",
          "data": {
            "text/plain": [
              "fear        5811\n",
              "joy         5362\n",
              "love        5216\n",
              "surprise    5148\n",
              "sadness     4666\n",
              "anger       4318\n",
              "Name: emotion, dtype: int64"
            ]
          },
          "metadata": {},
          "execution_count": 25
        }
      ]
    },
    {
      "cell_type": "code",
      "metadata": {
        "id": "gDo5xFli3w4v"
      },
      "source": [
        "# Build the model\n",
        "model = make_pipeline(TfidfVectorizer(), MultinomialNB())\n",
        "# Train the model using the training data\n",
        "model.fit(train_data.text, train_data.emotion)\n",
        "# Predict the categories of the test data\n",
        "y_pred = model.predict(test_data.text)"
      ],
      "execution_count": null,
      "outputs": []
    },
    {
      "cell_type": "code",
      "metadata": {
        "colab": {
          "base_uri": "https://localhost:8080/"
        },
        "id": "2it_SPomEJzd",
        "outputId": "9651189b-403f-4d02-ddf4-55983dd20eba"
      },
      "source": [
        "y_test"
      ],
      "execution_count": null,
      "outputs": [
        {
          "output_type": "execute_result",
          "data": {
            "text/plain": [
              "array(['sadness', 'sadness', 'sadness', ..., 'joy', 'joy', 'fear'],\n",
              "      dtype=object)"
            ]
          },
          "metadata": {},
          "execution_count": 27
        }
      ]
    },
    {
      "cell_type": "code",
      "metadata": {
        "id": "2hJvhmFcEZjE"
      },
      "source": [
        "conf_matrix=confusion_matrix(y_pred,y_test)"
      ],
      "execution_count": null,
      "outputs": []
    },
    {
      "cell_type": "code",
      "metadata": {
        "colab": {
          "base_uri": "https://localhost:8080/"
        },
        "id": "_P1ZZpprEcgd",
        "outputId": "104fdb55-0812-4ac1-edf3-c8884835d451"
      },
      "source": [
        "print(classification_report(y_pred,y_test))"
      ],
      "execution_count": null,
      "outputs": [
        {
          "output_type": "stream",
          "name": "stdout",
          "text": [
            "              precision    recall  f1-score   support\n",
            "\n",
            "       anger       0.64      0.87      0.74       203\n",
            "        fear       0.87      0.57      0.69       342\n",
            "         joy       0.81      0.89      0.85       632\n",
            "        love       0.82      0.50      0.62       260\n",
            "     sadness       0.74      0.96      0.83       447\n",
            "    surprise       0.74      0.42      0.54       116\n",
            "\n",
            "    accuracy                           0.77      2000\n",
            "   macro avg       0.77      0.70      0.71      2000\n",
            "weighted avg       0.78      0.77      0.76      2000\n",
            "\n"
          ]
        }
      ]
    },
    {
      "cell_type": "code",
      "metadata": {
        "colab": {
          "base_uri": "https://localhost:8080/",
          "height": 415
        },
        "id": "cz0AspgnEhAS",
        "outputId": "e2be32d8-b04a-40c8-883e-338a27c08efd"
      },
      "source": [
        "fig, ax = plt.subplots(figsize=(6, 6))\n",
        "ax.matshow(conf_matrix, cmap=plt.cm.Reds, alpha=0.5)\n",
        "for i in range(conf_matrix.shape[0]):\n",
        "    for j in range(conf_matrix.shape[1]):\n",
        "        ax.text(x=j, y=i,s=conf_matrix[i, j], va='center', ha='center', size='xx-large')\n",
        " \n",
        "plt.xlabel('Predictions', fontsize=18)\n",
        "plt.ylabel('Actuals', fontsize=18)\n",
        "plt.title('Confusion Matrix', fontsize=18)\n",
        "plt.show()"
      ],
      "execution_count": null,
      "outputs": [
        {
          "output_type": "display_data",
          "data": {
            "image/png": "[encoded data removed]",
            "text/plain": [
              "<Figure size 432x432 with 1 Axes>"
            ]
          },
          "metadata": {
            "needs_background": "light"
          }
        }
      ]
    },
    {
      "cell_type": "code",
      "metadata": {
        "id": "46j0TyhHFZab"
      },
      "source": [
        ""
      ],
      "execution_count": null,
      "outputs": []
    }
  ]
}