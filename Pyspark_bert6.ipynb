{
  "nbformat": 4,
  "nbformat_minor": 0,
  "metadata": {
    "colab": {
      "name": "Pyspark_bert6.ipynb",
      "provenance": [],
      "collapsed_sections": []
    },
    "kernelspec": {
      "display_name": "Python 3",
      "name": "python3"
    },
    "language_info": {
      "name": "python"
    }
  },
  "cells": [
    {
      "cell_type": "code",
      "metadata": {
        "colab": {
          "base_uri": "https://localhost:8080/"
        },
        "id": "YCfb4p3mSxKp",
        "outputId": "63aba077-e5d3-40d8-bddd-64011190bdff"
      },
      "source": [
        "!pip install pyspark"
      ],
      "execution_count": null,
      "outputs": [
        {
          "output_type": "stream",
          "name": "stdout",
          "text": [
            "Collecting pyspark\n",
            "  Downloading pyspark-3.2.0.tar.gz (281.3 MB)\n",
            "\u001b[K     |████████████████████████████████| 281.3 MB 41 kB/s \n",
            "\u001b[?25hCollecting py4j==0.10.9.2\n",
            "  Downloading py4j-0.10.9.2-py2.py3-none-any.whl (198 kB)\n",
            "\u001b[K     |████████████████████████████████| 198 kB 51.0 MB/s \n",
            "\u001b[?25hBuilding wheels for collected packages: pyspark\n",
            "  Building wheel for pyspark (setup.py) ... \u001b[?25l\u001b[?25hdone\n",
            "  Created wheel for pyspark: filename=pyspark-3.2.0-py2.py3-none-any.whl size=281805912 sha256=8a5771a8e103578872ece14d07e512806425c87260ddba06301e39decb03ef2a\n",
            "  Stored in directory: /root/.cache/pip/wheels/0b/de/d2/9be5d59d7331c6c2a7c1b6d1a4f463ce107332b1ecd4e80718\n",
            "Successfully built pyspark\n",
            "Installing collected packages: py4j, pyspark\n",
            "Successfully installed py4j-0.10.9.2 pyspark-3.2.0\n"
          ]
        }
      ]
    },
    {
      "cell_type": "code",
      "metadata": {
        "colab": {
          "base_uri": "https://localhost:8080/"
        },
        "id": "-nQzAbCCS72k",
        "outputId": "c51c1c3e-a679-4c57-ba99-63be754cbdbf"
      },
      "source": [
        "import numpy as np\n",
        "import pandas as pd\n",
        "import tensorflow as tf\n",
        "import matplotlib.pyplot as plt\n",
        "import seaborn as sns\n",
        "\n",
        "import io\n",
        "\n",
        "from sklearn import preprocessing\n",
        "from imblearn.over_sampling import RandomOverSampler\n",
        "\n",
        "!pip install transformers\n",
        "from transformers import BertTokenizerFast\n",
        "from transformers import TFBertModel\n",
        "from tensorflow.keras.optimizers import Adam\n",
        "\n",
        "from sklearn.metrics import accuracy_score, f1_score\n",
        "from sklearn.metrics import classification_report\n",
        "from sklearn.metrics import confusion_matrix"
      ],
      "execution_count": null,
      "outputs": [
        {
          "output_type": "stream",
          "name": "stderr",
          "text": [
            "/usr/local/lib/python3.7/dist-packages/sklearn/externals/six.py:31: FutureWarning: The module is deprecated in version 0.21 and will be removed in version 0.23 since we've dropped support for Python 2.7. Please rely on the official version of six (https://pypi.org/project/six/).\n",
            "  \"(https://pypi.org/project/six/).\", FutureWarning)\n",
            "/usr/local/lib/python3.7/dist-packages/sklearn/utils/deprecation.py:144: FutureWarning: The sklearn.neighbors.base module is  deprecated in version 0.22 and will be removed in version 0.24. The corresponding classes / functions should instead be imported from sklearn.neighbors. Anything that cannot be imported from sklearn.neighbors is now part of the private API.\n",
            "  warnings.warn(message, FutureWarning)\n"
          ]
        },
        {
          "output_type": "stream",
          "name": "stdout",
          "text": [
            "Collecting transformers\n",
            "  Downloading transformers-4.11.3-py3-none-any.whl (2.9 MB)\n",
            "\u001b[K     |████████████████████████████████| 2.9 MB 5.0 MB/s \n",
            "\u001b[?25hCollecting sacremoses\n",
            "  Downloading sacremoses-0.0.46-py3-none-any.whl (895 kB)\n",
            "\u001b[K     |████████████████████████████████| 895 kB 47.0 MB/s \n",
            "\u001b[?25hCollecting huggingface-hub>=0.0.17\n",
            "  Downloading huggingface_hub-0.0.19-py3-none-any.whl (56 kB)\n",
            "\u001b[K     |████████████████████████████████| 56 kB 4.7 MB/s \n",
            "\u001b[?25hRequirement already satisfied: tqdm>=4.27 in /usr/local/lib/python3.7/dist-packages (from transformers) (4.62.3)\n",
            "Requirement already satisfied: packaging>=20.0 in /usr/local/lib/python3.7/dist-packages (from transformers) (21.0)\n",
            "Collecting pyyaml>=5.1\n",
            "  Downloading PyYAML-6.0-cp37-cp37m-manylinux_2_5_x86_64.manylinux1_x86_64.manylinux_2_12_x86_64.manylinux2010_x86_64.whl (596 kB)\n",
            "\u001b[K     |████████████████████████████████| 596 kB 51.6 MB/s \n",
            "\u001b[?25hCollecting tokenizers<0.11,>=0.10.1\n",
            "  Downloading tokenizers-0.10.3-cp37-cp37m-manylinux_2_5_x86_64.manylinux1_x86_64.manylinux_2_12_x86_64.manylinux2010_x86_64.whl (3.3 MB)\n",
            "\u001b[K     |████████████████████████████████| 3.3 MB 29.9 MB/s \n",
            "\u001b[?25hRequirement already satisfied: regex!=2019.12.17 in /usr/local/lib/python3.7/dist-packages (from transformers) (2019.12.20)\n",
            "Requirement already satisfied: requests in /usr/local/lib/python3.7/dist-packages (from transformers) (2.23.0)\n",
            "Requirement already satisfied: importlib-metadata in /usr/local/lib/python3.7/dist-packages (from transformers) (4.8.1)\n",
            "Requirement already satisfied: filelock in /usr/local/lib/python3.7/dist-packages (from transformers) (3.3.0)\n",
            "Requirement already satisfied: numpy>=1.17 in /usr/local/lib/python3.7/dist-packages (from transformers) (1.19.5)\n",
            "Requirement already satisfied: typing-extensions in /usr/local/lib/python3.7/dist-packages (from huggingface-hub>=0.0.17->transformers) (3.7.4.3)\n",
            "Requirement already satisfied: pyparsing>=2.0.2 in /usr/local/lib/python3.7/dist-packages (from packaging>=20.0->transformers) (2.4.7)\n",
            "Requirement already satisfied: zipp>=0.5 in /usr/local/lib/python3.7/dist-packages (from importlib-metadata->transformers) (3.6.0)\n",
            "Requirement already satisfied: idna<3,>=2.5 in /usr/local/lib/python3.7/dist-packages (from requests->transformers) (2.10)\n",
            "Requirement already satisfied: urllib3!=1.25.0,!=1.25.1,<1.26,>=1.21.1 in /usr/local/lib/python3.7/dist-packages (from requests->transformers) (1.24.3)\n",
            "Requirement already satisfied: chardet<4,>=3.0.2 in /usr/local/lib/python3.7/dist-packages (from requests->transformers) (3.0.4)\n",
            "Requirement already satisfied: certifi>=2017.4.17 in /usr/local/lib/python3.7/dist-packages (from requests->transformers) (2021.5.30)\n",
            "Requirement already satisfied: joblib in /usr/local/lib/python3.7/dist-packages (from sacremoses->transformers) (1.0.1)\n",
            "Requirement already satisfied: six in /usr/local/lib/python3.7/dist-packages (from sacremoses->transformers) (1.15.0)\n",
            "Requirement already satisfied: click in /usr/local/lib/python3.7/dist-packages (from sacremoses->transformers) (7.1.2)\n",
            "Installing collected packages: pyyaml, tokenizers, sacremoses, huggingface-hub, transformers\n",
            "  Attempting uninstall: pyyaml\n",
            "    Found existing installation: PyYAML 3.13\n",
            "    Uninstalling PyYAML-3.13:\n",
            "      Successfully uninstalled PyYAML-3.13\n",
            "Successfully installed huggingface-hub-0.0.19 pyyaml-6.0 sacremoses-0.0.46 tokenizers-0.10.3 transformers-4.11.3\n"
          ]
        }
      ]
    },
    {
      "cell_type": "code",
      "metadata": {
        "colab": {
          "base_uri": "https://localhost:8080/"
        },
        "id": "EQEfrzZVTG3H",
        "outputId": "fdfce952-30d3-46b7-e872-253ca22b534b"
      },
      "source": [
        "from google.colab import drive \n",
        "drive.mount('/content/gdrive')"
      ],
      "execution_count": null,
      "outputs": [
        {
          "output_type": "stream",
          "name": "stdout",
          "text": [
            "Mounted at /content/gdrive\n"
          ]
        }
      ]
    },
    {
      "cell_type": "code",
      "metadata": {
        "id": "v0bgUMRnTRFc"
      },
      "source": [
        "import pyspark\n",
        "from pyspark.sql import SparkSession\n",
        "from pyspark.sql.types import StructType,StructField, StringType, IntegerType\n",
        "from pyspark.sql.functions import col, explode, array, lit\n",
        "from pyspark.ml.feature import OneHotEncoder, StringIndexer\n",
        "from pyspark.ml.linalg import Vectors\n",
        "import pyspark.sql.types\n",
        "spark=SparkSession.builder.appName('Train').getOrCreate()\n",
        "#spark2=SparkSession.builder.appName('Train2').getOrCreate()"
      ],
      "execution_count": null,
      "outputs": []
    },
    {
      "cell_type": "code",
      "metadata": {
        "id": "zifJh9AVTYaa"
      },
      "source": [
        "df_train = spark.read.format('csv').option('delimiter',';').load('gdrive/My Drive/BERT/train.txt')\n",
        "df_train=df_train.withColumnRenamed(\"_c0\",\"text\")\n",
        "df_train=df_train.withColumnRenamed(\"_c1\",\"emotion\")\n",
        "#df_train.show()"
      ],
      "execution_count": null,
      "outputs": []
    },
    {
      "cell_type": "code",
      "metadata": {
        "colab": {
          "base_uri": "https://localhost:8080/",
          "height": 34
        },
        "id": "LCiQaE5FHaYd",
        "outputId": "110808d9-292c-4a83-d21e-1749a0059d4e"
      },
      "source": [
        "display(df_train)"
      ],
      "execution_count": null,
      "outputs": [
        {
          "output_type": "display_data",
          "data": {
            "text/plain": [
              "DataFrame[text: string, emotion: string]"
            ]
          },
          "metadata": {}
        }
      ]
    },
    {
      "cell_type": "code",
      "metadata": {
        "id": "if0YjWgvTaI_"
      },
      "source": [
        "df_val = spark.read.format('csv').option('delimiter',';').load('gdrive/My Drive/BERT/val.txt')\n",
        "df_val=df_val.withColumnRenamed(\"_c0\",\"text\")\n",
        "df_val=df_val.withColumnRenamed(\"_c1\",\"emotion\")\n",
        "#df_val.show()"
      ],
      "execution_count": null,
      "outputs": []
    },
    {
      "cell_type": "code",
      "metadata": {
        "id": "gKN2bLLHTb6j"
      },
      "source": [
        "df_test = spark.read.format('csv').option('delimiter',';').load('gdrive/My Drive/BERT/test.txt')\n",
        "df_test=df_test.withColumnRenamed(\"_c0\",\"text\")\n",
        "df_test=df_test.withColumnRenamed(\"_c1\",\"emotion\")\n",
        "#df_val.show()"
      ],
      "execution_count": null,
      "outputs": []
    },
    {
      "cell_type": "code",
      "metadata": {
        "colab": {
          "base_uri": "https://localhost:8080/"
        },
        "id": "4XTbbnrMTeqf",
        "outputId": "2beee97f-aed1-40bd-d644-8ff06ae2f760"
      },
      "source": [
        "df_train.groupBy(\"emotion\").count().sort(\"count\",ascending=True).show()\n",
        "df_train.count()"
      ],
      "execution_count": null,
      "outputs": [
        {
          "output_type": "stream",
          "name": "stdout",
          "text": [
            "+--------+-----+\n",
            "| emotion|count|\n",
            "+--------+-----+\n",
            "|surprise|  572|\n",
            "|    love| 1304|\n",
            "|    fear| 1937|\n",
            "|   anger| 2159|\n",
            "| sadness| 4666|\n",
            "|     joy| 5362|\n",
            "+--------+-----+\n",
            "\n"
          ]
        },
        {
          "output_type": "execute_result",
          "data": {
            "text/plain": [
              "16000"
            ]
          },
          "metadata": {},
          "execution_count": 189
        }
      ]
    },
    {
      "cell_type": "code",
      "metadata": {
        "id": "uD38eYrjTvHn"
      },
      "source": [
        "ohe = OneHotEncoder(dropLast=False)\n",
        "def ohe_encoder(df1):\n",
        "  indexer = StringIndexer(inputCol=\"emotion\", outputCol=\"emo_ohe2\").fit(df1)\n",
        "  df1 = indexer.transform(df1)\n",
        "  ohe.setInputCols([\"emo_ohe2\"])\n",
        "  ohe.setOutputCols([\"emo_ohe\"])\n",
        "  model = ohe.fit(df1)\n",
        "  df1 = model.transform(df1)\n",
        "  #df1 = df1.drop('emotion')\n",
        "  df1 = df1.drop('emo_ohe2')\n",
        "  return df1"
      ],
      "execution_count": null,
      "outputs": []
    },
    {
      "cell_type": "code",
      "metadata": {
        "id": "yg1AQ37wUDf0"
      },
      "source": [
        "df_train = ohe_encoder(df_train)\n",
        "df_val = ohe_encoder(df_val)\n",
        "df_test = ohe_encoder(df_test)"
      ],
      "execution_count": null,
      "outputs": []
    },
    {
      "cell_type": "code",
      "metadata": {
        "id": "NQVktbzwTgeS"
      },
      "source": [
        "emotions = ['surprise','love','fear','anger','sadness','joy']\n",
        "emotion_count=[]\n",
        "\n",
        "emomax = int(0)\n",
        "for emo in emotions:\n",
        "  for emoo in emotions:\n",
        "    if df_train[df_train['emotion']==emoo].count() > df_train[df_train['emotion']==emo].count():\n",
        "      emomax = df_train[df_train['emotion']==emoo].count()\n",
        "  num_emo = df_train[df_train['emotion']==emo].count()\n",
        "  emotion_count.append(emomax/num_emo)"
      ],
      "execution_count": null,
      "outputs": []
    },
    {
      "cell_type": "code",
      "metadata": {
        "id": "p5MGaiZGTiqV"
      },
      "source": [
        "emotions_ratios = [int(np.round(x)) for x in emotion_count]"
      ],
      "execution_count": null,
      "outputs": []
    },
    {
      "cell_type": "code",
      "metadata": {
        "colab": {
          "base_uri": "https://localhost:8080/"
        },
        "id": "7w13eFHSTkhy",
        "outputId": "eb8ad354-baa7-4330-f245-15b744d0df76"
      },
      "source": [
        "index = 0\n",
        "for emotion in emotions:\n",
        "  df_emo = df_train.filter(col('emotion')==emotion)\n",
        "  print(index,emotion)\n",
        "  a = range(emotions_ratios[index]-1)\n",
        "  df_emo_od = df_emo.withColumn(\"dummy\", explode(array([lit(x) for x in a]))).drop('dummy')\n",
        "  df_train = df_train.union(df_emo_od)\n",
        "  index+=1"
      ],
      "execution_count": null,
      "outputs": [
        {
          "output_type": "stream",
          "name": "stdout",
          "text": [
            "0 surprise\n",
            "1 love\n",
            "2 fear\n",
            "3 anger\n",
            "4 sadness\n",
            "5 joy\n"
          ]
        }
      ]
    },
    {
      "cell_type": "code",
      "metadata": {
        "colab": {
          "base_uri": "https://localhost:8080/"
        },
        "id": "hxVgFZBzTtnH",
        "outputId": "24b8ca00-90f6-432d-e6ac-97640a7bd0aa"
      },
      "source": [
        "df_train.groupBy(\"emotion\").count().sort(\"count\",ascending=True).show()\n",
        "df_train.count()"
      ],
      "execution_count": null,
      "outputs": [
        {
          "output_type": "stream",
          "name": "stdout",
          "text": [
            "+--------+-----+\n",
            "| emotion|count|\n",
            "+--------+-----+\n",
            "|   anger| 4318|\n",
            "| sadness| 4666|\n",
            "|surprise| 5148|\n",
            "|    love| 5216|\n",
            "|     joy| 5362|\n",
            "|    fear| 5811|\n",
            "+--------+-----+\n",
            "\n"
          ]
        },
        {
          "output_type": "execute_result",
          "data": {
            "text/plain": [
              "30521"
            ]
          },
          "metadata": {},
          "execution_count": 195
        }
      ]
    },
    {
      "cell_type": "code",
      "metadata": {
        "id": "NdViMzP8MUpy"
      },
      "source": [
        "df_train = df_train.drop('emotion')\n",
        "df_val = df_val.drop('emotion')\n",
        "df_test = df_test.drop('emotion')"
      ],
      "execution_count": null,
      "outputs": []
    },
    {
      "cell_type": "code",
      "metadata": {
        "id": "jg3IibHwNNra"
      },
      "source": [
        "vectors = df_train.select(\"emo_ohe\").rdd.map(lambda row: row.features)\n",
        "\n",
        "from pyspark.mllib.linalg.distributed import RowMatrix\n",
        "\n",
        "matrix = RowMatrix(vectors)\n"
      ],
      "execution_count": null,
      "outputs": []
    },
    {
      "cell_type": "code",
      "metadata": {
        "colab": {
          "base_uri": "https://localhost:8080/"
        },
        "id": "gvA9sCCdNhle",
        "outputId": "ce499c92-084d-4135-b105-352daa69b685"
      },
      "source": [
        "print(matrix)"
      ],
      "execution_count": null,
      "outputs": [
        {
          "output_type": "stream",
          "name": "stdout",
          "text": [
            "<pyspark.mllib.linalg.distributed.RowMatrix object at 0x7f0b97d98d50>\n"
          ]
        }
      ]
    },
    {
      "cell_type": "code",
      "metadata": {
        "id": "lps3RBxyUIBT"
      },
      "source": [
        "train_data = df_train.toPandas()\n",
        "\n",
        "val_data = df_val.toPandas()\n",
        "\n",
        "test_data = df_test.toPandas()"
      ],
      "execution_count": null,
      "outputs": []
    },
    {
      "cell_type": "code",
      "metadata": {
        "colab": {
          "base_uri": "https://localhost:8080/"
        },
        "id": "gPR9mV2GVwxi",
        "outputId": "e3b1ef3a-0c34-46cd-9e38-a0229262f4ce"
      },
      "source": [
        "train_data.info()"
      ],
      "execution_count": null,
      "outputs": [
        {
          "output_type": "stream",
          "name": "stdout",
          "text": [
            "<class 'pandas.core.frame.DataFrame'>\n",
            "RangeIndex: 30521 entries, 0 to 30520\n",
            "Data columns (total 2 columns):\n",
            " #   Column   Non-Null Count  Dtype \n",
            "---  ------   --------------  ----- \n",
            " 0   text     30521 non-null  object\n",
            " 1   emo_ohe  30521 non-null  object\n",
            "dtypes: object(2)\n",
            "memory usage: 477.0+ KB\n"
          ]
        }
      ]
    },
    {
      "cell_type": "code",
      "metadata": {
        "colab": {
          "base_uri": "https://localhost:8080/",
          "height": 204
        },
        "id": "vTziQirBVxY5",
        "outputId": "73b3116b-c374-4af6-fe8b-3b578cf70c2d"
      },
      "source": [
        "train_data.head()\n"
      ],
      "execution_count": null,
      "outputs": [
        {
          "output_type": "execute_result",
          "data": {
            "text/html": [
              "<div>\n",
              "<style scoped>\n",
              "    .dataframe tbody tr th:only-of-type {\n",
              "        vertical-align: middle;\n",
              "    }\n",
              "\n",
              "    .dataframe tbody tr th {\n",
              "        vertical-align: top;\n",
              "    }\n",
              "\n",
              "    .dataframe thead th {\n",
              "        text-align: right;\n",
              "    }\n",
              "</style>\n",
              "<table border=\"1\" class=\"dataframe\">\n",
              "  <thead>\n",
              "    <tr style=\"text-align: right;\">\n",
              "      <th></th>\n",
              "      <th>text</th>\n",
              "      <th>emo_ohe</th>\n",
              "    </tr>\n",
              "  </thead>\n",
              "  <tbody>\n",
              "    <tr>\n",
              "      <th>0</th>\n",
              "      <td>i didnt feel humiliated</td>\n",
              "      <td>(0.0, 1.0, 0.0, 0.0, 0.0, 0.0)</td>\n",
              "    </tr>\n",
              "    <tr>\n",
              "      <th>1</th>\n",
              "      <td>i can go from feeling so hopeless to so damned...</td>\n",
              "      <td>(0.0, 1.0, 0.0, 0.0, 0.0, 0.0)</td>\n",
              "    </tr>\n",
              "    <tr>\n",
              "      <th>2</th>\n",
              "      <td>im grabbing a minute to post i feel greedy wrong</td>\n",
              "      <td>(0.0, 0.0, 1.0, 0.0, 0.0, 0.0)</td>\n",
              "    </tr>\n",
              "    <tr>\n",
              "      <th>3</th>\n",
              "      <td>i am ever feeling nostalgic about the fireplac...</td>\n",
              "      <td>(0.0, 0.0, 0.0, 0.0, 1.0, 0.0)</td>\n",
              "    </tr>\n",
              "    <tr>\n",
              "      <th>4</th>\n",
              "      <td>i am feeling grouchy</td>\n",
              "      <td>(0.0, 0.0, 1.0, 0.0, 0.0, 0.0)</td>\n",
              "    </tr>\n",
              "  </tbody>\n",
              "</table>\n",
              "</div>"
            ],
            "text/plain": [
              "                                                text                         emo_ohe\n",
              "0                            i didnt feel humiliated  (0.0, 1.0, 0.0, 0.0, 0.0, 0.0)\n",
              "1  i can go from feeling so hopeless to so damned...  (0.0, 1.0, 0.0, 0.0, 0.0, 0.0)\n",
              "2   im grabbing a minute to post i feel greedy wrong  (0.0, 0.0, 1.0, 0.0, 0.0, 0.0)\n",
              "3  i am ever feeling nostalgic about the fireplac...  (0.0, 0.0, 0.0, 0.0, 1.0, 0.0)\n",
              "4                               i am feeling grouchy  (0.0, 0.0, 1.0, 0.0, 0.0, 0.0)"
            ]
          },
          "metadata": {},
          "execution_count": 202
        }
      ]
    },
    {
      "cell_type": "code",
      "metadata": {
        "id": "D832Gk0dNqkb",
        "colab": {
          "base_uri": "https://localhost:8080/",
          "height": 204
        },
        "outputId": "533563cf-dcfc-4893-f5d0-54d75428dc9f"
      },
      "source": [
        "test_data.head()"
      ],
      "execution_count": null,
      "outputs": [
        {
          "output_type": "execute_result",
          "data": {
            "text/html": [
              "<div>\n",
              "<style scoped>\n",
              "    .dataframe tbody tr th:only-of-type {\n",
              "        vertical-align: middle;\n",
              "    }\n",
              "\n",
              "    .dataframe tbody tr th {\n",
              "        vertical-align: top;\n",
              "    }\n",
              "\n",
              "    .dataframe thead th {\n",
              "        text-align: right;\n",
              "    }\n",
              "</style>\n",
              "<table border=\"1\" class=\"dataframe\">\n",
              "  <thead>\n",
              "    <tr style=\"text-align: right;\">\n",
              "      <th></th>\n",
              "      <th>text</th>\n",
              "      <th>emo_ohe</th>\n",
              "    </tr>\n",
              "  </thead>\n",
              "  <tbody>\n",
              "    <tr>\n",
              "      <th>0</th>\n",
              "      <td>im feeling rather rotten so im not very ambiti...</td>\n",
              "      <td>(0.0, 1.0, 0.0, 0.0, 0.0, 0.0)</td>\n",
              "    </tr>\n",
              "    <tr>\n",
              "      <th>1</th>\n",
              "      <td>im updating my blog because i feel shitty</td>\n",
              "      <td>(0.0, 1.0, 0.0, 0.0, 0.0, 0.0)</td>\n",
              "    </tr>\n",
              "    <tr>\n",
              "      <th>2</th>\n",
              "      <td>i never make her separate from me because i do...</td>\n",
              "      <td>(0.0, 1.0, 0.0, 0.0, 0.0, 0.0)</td>\n",
              "    </tr>\n",
              "    <tr>\n",
              "      <th>3</th>\n",
              "      <td>i left with my bouquet of red and yellow tulip...</td>\n",
              "      <td>(1.0, 0.0, 0.0, 0.0, 0.0, 0.0)</td>\n",
              "    </tr>\n",
              "    <tr>\n",
              "      <th>4</th>\n",
              "      <td>i was feeling a little vain when i did this one</td>\n",
              "      <td>(0.0, 1.0, 0.0, 0.0, 0.0, 0.0)</td>\n",
              "    </tr>\n",
              "  </tbody>\n",
              "</table>\n",
              "</div>"
            ],
            "text/plain": [
              "                                                text                         emo_ohe\n",
              "0  im feeling rather rotten so im not very ambiti...  (0.0, 1.0, 0.0, 0.0, 0.0, 0.0)\n",
              "1          im updating my blog because i feel shitty  (0.0, 1.0, 0.0, 0.0, 0.0, 0.0)\n",
              "2  i never make her separate from me because i do...  (0.0, 1.0, 0.0, 0.0, 0.0, 0.0)\n",
              "3  i left with my bouquet of red and yellow tulip...  (1.0, 0.0, 0.0, 0.0, 0.0, 0.0)\n",
              "4    i was feeling a little vain when i did this one  (0.0, 1.0, 0.0, 0.0, 0.0, 0.0)"
            ]
          },
          "metadata": {},
          "execution_count": 203
        }
      ]
    },
    {
      "cell_type": "code",
      "metadata": {
        "colab": {
          "base_uri": "https://localhost:8080/",
          "height": 204
        },
        "id": "6X5LuzW4iiYW",
        "outputId": "3c79934c-2ba0-475f-dc46-78db850e2abf"
      },
      "source": [
        "val_data.head()"
      ],
      "execution_count": null,
      "outputs": [
        {
          "output_type": "execute_result",
          "data": {
            "text/html": [
              "<div>\n",
              "<style scoped>\n",
              "    .dataframe tbody tr th:only-of-type {\n",
              "        vertical-align: middle;\n",
              "    }\n",
              "\n",
              "    .dataframe tbody tr th {\n",
              "        vertical-align: top;\n",
              "    }\n",
              "\n",
              "    .dataframe thead th {\n",
              "        text-align: right;\n",
              "    }\n",
              "</style>\n",
              "<table border=\"1\" class=\"dataframe\">\n",
              "  <thead>\n",
              "    <tr style=\"text-align: right;\">\n",
              "      <th></th>\n",
              "      <th>text</th>\n",
              "      <th>emo_ohe</th>\n",
              "    </tr>\n",
              "  </thead>\n",
              "  <tbody>\n",
              "    <tr>\n",
              "      <th>0</th>\n",
              "      <td>im feeling quite sad and sorry for myself but ...</td>\n",
              "      <td>(0.0, 1.0, 0.0, 0.0, 0.0, 0.0)</td>\n",
              "    </tr>\n",
              "    <tr>\n",
              "      <th>1</th>\n",
              "      <td>i feel like i am still looking at a blank canv...</td>\n",
              "      <td>(0.0, 1.0, 0.0, 0.0, 0.0, 0.0)</td>\n",
              "    </tr>\n",
              "    <tr>\n",
              "      <th>2</th>\n",
              "      <td>i feel like a faithful servant</td>\n",
              "      <td>(0.0, 0.0, 0.0, 0.0, 1.0, 0.0)</td>\n",
              "    </tr>\n",
              "    <tr>\n",
              "      <th>3</th>\n",
              "      <td>i am just feeling cranky and blue</td>\n",
              "      <td>(0.0, 0.0, 1.0, 0.0, 0.0, 0.0)</td>\n",
              "    </tr>\n",
              "    <tr>\n",
              "      <th>4</th>\n",
              "      <td>i can have for a treat or if i am feeling festive</td>\n",
              "      <td>(1.0, 0.0, 0.0, 0.0, 0.0, 0.0)</td>\n",
              "    </tr>\n",
              "  </tbody>\n",
              "</table>\n",
              "</div>"
            ],
            "text/plain": [
              "                                                text                         emo_ohe\n",
              "0  im feeling quite sad and sorry for myself but ...  (0.0, 1.0, 0.0, 0.0, 0.0, 0.0)\n",
              "1  i feel like i am still looking at a blank canv...  (0.0, 1.0, 0.0, 0.0, 0.0, 0.0)\n",
              "2                     i feel like a faithful servant  (0.0, 0.0, 0.0, 0.0, 1.0, 0.0)\n",
              "3                  i am just feeling cranky and blue  (0.0, 0.0, 1.0, 0.0, 0.0, 0.0)\n",
              "4  i can have for a treat or if i am feeling festive  (1.0, 0.0, 0.0, 0.0, 0.0, 0.0)"
            ]
          },
          "metadata": {},
          "execution_count": 204
        }
      ]
    },
    {
      "cell_type": "code",
      "metadata": {
        "id": "0WBwG7-dVzFC"
      },
      "source": [
        "y_train=np.array(train_data['emo_ohe'])\n",
        "y_test=np.array(test_data['emo_ohe'])\n",
        "y_val=np.array(val_data['emo_ohe'])"
      ],
      "execution_count": null,
      "outputs": []
    },
    {
      "cell_type": "code",
      "metadata": {
        "colab": {
          "base_uri": "https://localhost:8080/"
        },
        "id": "gy0JUUV9exhq",
        "outputId": "9608cd8d-d6db-443f-9862-9acef53462e9"
      },
      "source": [
        "y_train"
      ],
      "execution_count": null,
      "outputs": [
        {
          "output_type": "execute_result",
          "data": {
            "text/plain": [
              "array([SparseVector(6, {1: 1.0}), SparseVector(6, {1: 1.0}),\n",
              "       SparseVector(6, {2: 1.0}), ..., SparseVector(6, {2: 1.0}),\n",
              "       SparseVector(6, {2: 1.0}), SparseVector(6, {2: 1.0})], dtype=object)"
            ]
          },
          "metadata": {},
          "execution_count": 207
        }
      ]
    },
    {
      "cell_type": "code",
      "metadata": {
        "id": "eLCWaom5YMXd"
      },
      "source": [
        "def toarrayy(y_array):\n",
        "  y_array2 = [x.toArray() for x in y_array]\n",
        "  y_array = [x.astype(np.int64) for x in y_array2]\n",
        "  return y_array\n"
      ],
      "execution_count": null,
      "outputs": []
    },
    {
      "cell_type": "code",
      "metadata": {
        "id": "QnjL7Anrwk7o"
      },
      "source": [
        "y_train=toarrayy(y_train)\n",
        "y_test=toarrayy(y_test)\n",
        "y_val=toarrayy(y_val)"
      ],
      "execution_count": null,
      "outputs": []
    },
    {
      "cell_type": "code",
      "metadata": {
        "colab": {
          "base_uri": "https://localhost:8080/"
        },
        "id": "JS5o-YivSGd3",
        "outputId": "44eaa6f7-8a97-4f93-809d-ddd37f51bb6e"
      },
      "source": [
        "type(y_train)"
      ],
      "execution_count": null,
      "outputs": [
        {
          "output_type": "execute_result",
          "data": {
            "text/plain": [
              "list"
            ]
          },
          "metadata": {},
          "execution_count": 210
        }
      ]
    },
    {
      "cell_type": "code",
      "metadata": {
        "id": "KS8oVdMXUacW"
      },
      "source": [
        "y_train =np.array(y_train,dtype=np.float)\n",
        "y_test=np.array(y_test,dtype=np.float)\n",
        "y_val=np.array(y_val,dtype=np.float)"
      ],
      "execution_count": null,
      "outputs": []
    },
    {
      "cell_type": "code",
      "metadata": {
        "id": "aqz6FTFTuDdB"
      },
      "source": [
        "y_train=np.asarray(y_train).astype(np.float)\n",
        "y_test=np.asarray(y_test).astype(np.float)\n",
        "y_val=np.asarray(y_val).astype(np.float)"
      ],
      "execution_count": null,
      "outputs": []
    },
    {
      "cell_type": "code",
      "metadata": {
        "colab": {
          "base_uri": "https://localhost:8080/"
        },
        "id": "XA3l1TgVRY1r",
        "outputId": "430511a9-cbf3-45cd-ae41-aa93fa07b907"
      },
      "source": [
        "y_train\n",
        "print(y_train)\n",
        "print(type(y_train))"
      ],
      "execution_count": null,
      "outputs": [
        {
          "output_type": "stream",
          "name": "stdout",
          "text": [
            "[[0. 1. 0. 0. 0. 0.]\n",
            " [0. 1. 0. 0. 0. 0.]\n",
            " [0. 0. 1. 0. 0. 0.]\n",
            " ...\n",
            " [0. 0. 1. 0. 0. 0.]\n",
            " [0. 0. 1. 0. 0. 0.]\n",
            " [0. 0. 1. 0. 0. 0.]]\n",
            "<class 'numpy.ndarray'>\n"
          ]
        }
      ]
    },
    {
      "cell_type": "code",
      "metadata": {
        "id": "edSgd0NLV1j-"
      },
      "source": [
        "tokenizer = BertTokenizerFast.from_pretrained('bert-base-uncased')"
      ],
      "execution_count": null,
      "outputs": []
    },
    {
      "cell_type": "code",
      "metadata": {
        "id": "tPoocSBvWGmN"
      },
      "source": [
        "def tokenize(data,maximum_length) :\n",
        "  input_ids = []\n",
        "  attention_masks = []\n",
        "  for i in range(len(data.text)):\n",
        "      encoded = tokenizer.encode_plus( \n",
        "        data.text[i],\n",
        "        add_special_tokens=True,\n",
        "        max_length=maximum_length,\n",
        "        pad_to_max_length=True,\n",
        "        return_attention_mask=True,\n",
        "      )\n",
        "      input_ids.append(encoded['input_ids'])\n",
        "      attention_masks.append(encoded['attention_mask'])\n",
        "  return np.array(input_ids),np.array(attention_masks)"
      ],
      "execution_count": null,
      "outputs": []
    },
    {
      "cell_type": "code",
      "metadata": {
        "colab": {
          "base_uri": "https://localhost:8080/",
          "height": 350
        },
        "id": "oCsXJezyWJnB",
        "outputId": "f0b6c7ab-d26b-489f-ef7c-6ddfa53eaa2c"
      },
      "source": [
        "token_lens = []\n",
        "for txt in train_data.text:\n",
        "  tokens = tokenizer.encode(txt, max_length=512)\n",
        "  token_lens.append(len(tokens))\n",
        "sns.distplot(token_lens, color='red');\n",
        "plt.xlim([0, 128]);\n",
        "plt.xlabel('Token count');"
      ],
      "execution_count": null,
      "outputs": [
        {
          "output_type": "stream",
          "name": "stderr",
          "text": [
            "Truncation was not explicitly activated but `max_length` is provided a specific value, please use `truncation=True` to explicitly truncate examples to max length. Defaulting to 'longest_first' truncation strategy. If you encode pairs of sequences (GLUE-style) with the tokenizer you can select this strategy more precisely by providing a specific strategy to `truncation`.\n",
            "/usr/local/lib/python3.7/dist-packages/seaborn/distributions.py:2619: FutureWarning: `distplot` is a deprecated function and will be removed in a future version. Please adapt your code to use either `displot` (a figure-level function with similar flexibility) or `histplot` (an axes-level function for histograms).\n",
            "  warnings.warn(msg, FutureWarning)\n"
          ]
        },
        {
          "output_type": "display_data",
          "data": {
            "image/png": "[encoded data removed]",
            "text/plain": [
              "<Figure size 432x288 with 1 Axes>"
            ]
          },
          "metadata": {
            "needs_background": "light"
          }
        }
      ]
    },
    {
      "cell_type": "code",
      "metadata": {
        "colab": {
          "base_uri": "https://localhost:8080/"
        },
        "id": "nCRYTWNGWMgw",
        "outputId": "66139f13-faaa-429d-9029-6092564a774c"
      },
      "source": [
        "max_len=np.max(token_lens)\n",
        "max_len"
      ],
      "execution_count": null,
      "outputs": [
        {
          "output_type": "execute_result",
          "data": {
            "text/plain": [
              "87"
            ]
          },
          "metadata": {},
          "execution_count": 219
        }
      ]
    },
    {
      "cell_type": "code",
      "metadata": {
        "id": "8NfF0xCsWP59"
      },
      "source": [
        "max_len=88"
      ],
      "execution_count": null,
      "outputs": []
    },
    {
      "cell_type": "code",
      "metadata": {
        "colab": {
          "base_uri": "https://localhost:8080/"
        },
        "id": "xd6jaS4ZWR32",
        "outputId": "6e4773be-58ca-42eb-936c-76b93f51153b"
      },
      "source": [
        "train_input_ids,train_attention_masks = tokenize(train_data, max_len)\n",
        "test_input_ids,test_attention_masks = tokenize(test_data, max_len)\n",
        "val_input_ids,val_attention_masks = tokenize(val_data, max_len)"
      ],
      "execution_count": null,
      "outputs": [
        {
          "output_type": "stream",
          "name": "stderr",
          "text": [
            "/usr/local/lib/python3.7/dist-packages/transformers/tokenization_utils_base.py:2217: FutureWarning: The `pad_to_max_length` argument is deprecated and will be removed in a future version, use `padding=True` or `padding='longest'` to pad to the longest sequence in the batch, or use `padding='max_length'` to pad to a max length. In this case, you can give a specific length with `max_length` (e.g. `max_length=45`) or leave max_length to None to pad to the maximal input size of the model (e.g. 512 for Bert).\n",
            "  FutureWarning,\n"
          ]
        }
      ]
    },
    {
      "cell_type": "code",
      "metadata": {
        "id": "3JRiqclKWUS9"
      },
      "source": [
        "def create_model(bert_model, max_len):\n",
        "    input_ids = tf.keras.Input(shape=(max_len,),dtype='int32')\n",
        "    attention_masks = tf.keras.Input(shape=(max_len,),dtype='int32')\n",
        "    output = bert_model([input_ids,attention_masks])\n",
        "    output = output[1]\n",
        "    #output = tf.keras.layers.Dense(12, activation=tf.nn.relu)(output)\n",
        "    #output = tf.keras.layers.Dropout(0.1)(output)\n",
        "    output = tf.keras.layers.Dense(6, activation=tf.nn.softmax)(output)\n",
        "    model = tf.keras.models.Model(inputs = [input_ids,attention_masks],outputs = output)\n",
        "    model.compile(Adam(learning_rate=5e-5), loss='categorical_crossentropy', metrics=['accuracy'])\n",
        "    return model"
      ],
      "execution_count": null,
      "outputs": []
    },
    {
      "cell_type": "code",
      "metadata": {
        "colab": {
          "base_uri": "https://localhost:8080/"
        },
        "id": "-9mrLoEpWlBL",
        "outputId": "8a848cc3-e015-4ab6-8f1d-6e29a9c90af1"
      },
      "source": [
        "bert_model = TFBertModel.from_pretrained('bert-base-uncased')"
      ],
      "execution_count": null,
      "outputs": [
        {
          "output_type": "stream",
          "name": "stderr",
          "text": [
            "Some layers from the model checkpoint at bert-base-uncased were not used when initializing TFBertModel: ['mlm___cls', 'nsp___cls']\n",
            "- This IS expected if you are initializing TFBertModel from the checkpoint of a model trained on another task or with another architecture (e.g. initializing a BertForSequenceClassification model from a BertForPreTraining model).\n",
            "- This IS NOT expected if you are initializing TFBertModel from the checkpoint of a model that you expect to be exactly identical (initializing a BertForSequenceClassification model from a BertForSequenceClassification model).\n",
            "All the layers of TFBertModel were initialized from the model checkpoint at bert-base-uncased.\n",
            "If your task is similar to the task the model of the checkpoint was trained on, you can already use TFBertModel for predictions without further training.\n"
          ]
        }
      ]
    },
    {
      "cell_type": "code",
      "metadata": {
        "colab": {
          "base_uri": "https://localhost:8080/"
        },
        "id": "LW422mF-Wnx7",
        "outputId": "fab93da7-36af-4a9a-ff06-a223f0b789a1"
      },
      "source": [
        "model = create_model(bert_model, max_len)\n",
        "model.summary()"
      ],
      "execution_count": null,
      "outputs": [
        {
          "output_type": "stream",
          "name": "stdout",
          "text": [
            "Model: \"model_4\"\n",
            "__________________________________________________________________________________________________\n",
            "Layer (type)                    Output Shape         Param #     Connected to                     \n",
            "==================================================================================================\n",
            "input_9 (InputLayer)            [(None, 88)]         0                                            \n",
            "__________________________________________________________________________________________________\n",
            "input_10 (InputLayer)           [(None, 88)]         0                                            \n",
            "__________________________________________________________________________________________________\n",
            "tf_bert_model_4 (TFBertModel)   TFBaseModelOutputWit 109482240   input_9[0][0]                    \n",
            "                                                                 input_10[0][0]                   \n",
            "__________________________________________________________________________________________________\n",
            "dense_4 (Dense)                 (None, 6)            4614        tf_bert_model_4[0][1]            \n",
            "==================================================================================================\n",
            "Total params: 109,486,854\n",
            "Trainable params: 109,486,854\n",
            "Non-trainable params: 0\n",
            "__________________________________________________________________________________________________\n"
          ]
        }
      ]
    },
    {
      "cell_type": "code",
      "metadata": {
        "colab": {
          "base_uri": "https://localhost:8080/"
        },
        "id": "EVSn83ArWrdE",
        "outputId": "166ea1a9-4f01-4105-8d5e-4b178364c9e8"
      },
      "source": [
        "history = model.fit([train_input_ids,train_attention_masks], y_train, validation_data=([val_input_ids,val_attention_masks], y_val), epochs=5,batch_size=60)"
      ],
      "execution_count": null,
      "outputs": [
        {
          "output_type": "stream",
          "name": "stdout",
          "text": [
            "Epoch 1/5\n",
            "509/509 [==============================] - 915s 2s/step - loss: 0.0781 - accuracy: 0.9709 - val_loss: 0.1686 - val_accuracy: 0.9380\n",
            "Epoch 2/5\n",
            "509/509 [==============================] - 917s 2s/step - loss: 0.0505 - accuracy: 0.9814 - val_loss: 0.2253 - val_accuracy: 0.9375\n",
            "Epoch 3/5\n",
            "509/509 [==============================] - 919s 2s/step - loss: 0.0389 - accuracy: 0.9864 - val_loss: 0.2489 - val_accuracy: 0.9330\n",
            "Epoch 4/5\n",
            "509/509 [==============================] - 924s 2s/step - loss: 0.0223 - accuracy: 0.9930 - val_loss: 0.2964 - val_accuracy: 0.9400\n",
            "Epoch 5/5\n",
            "509/509 [==============================] - 921s 2s/step - loss: 0.0250 - accuracy: 0.9926 - val_loss: 0.2912 - val_accuracy: 0.9320\n"
          ]
        }
      ]
    },
    {
      "cell_type": "code",
      "metadata": {
        "colab": {
          "base_uri": "https://localhost:8080/",
          "height": 295
        },
        "id": "QmJJyCQ8Npjq",
        "outputId": "df55af0b-a23b-47dc-ff9a-75537a858f3f"
      },
      "source": [
        "import matplotlib.pyplot as plt\n",
        "from matplotlib.ticker import MaxNLocator\n",
        "\n",
        "accuracy = [0.9707, 0.9814, 0.9864, 0.9930, 0.9926]\n",
        "val_accuracy= [0.9380, 0.9375, 0.9330, 0.9400, 0.9320]\n",
        "\n",
        "epoch=[1,2,3,4,5]\n",
        "fig,ax = plt.subplots()\n",
        "ax.plot(epoch, accuracy, label='accuracy')\n",
        "ax.plot(epoch, val_accuracy, label='val_accuracy')\n",
        "ax.set_title('Accuracy vs val_accuracy')\n",
        "ax.xaxis.set_major_locator(MaxNLocator(integer=True))\n",
        "ax.set_xlabel('Epoch')\n",
        "ax.set_ylabel('')\n",
        "ax.legend()\n",
        "plt.show()"
      ],
      "execution_count": null,
      "outputs": [
        {
          "output_type": "display_data",
          "data": {
            "image/png": "[encoded data removed]",
            "text/plain": [
              "<Figure size 432x288 with 1 Axes>"
            ]
          },
          "metadata": {
            "needs_background": "light"
          }
        }
      ]
    },
    {
      "cell_type": "code",
      "metadata": {
        "id": "PbXg-PuaWvjc"
      },
      "source": [
        "result = model.predict([test_input_ids,test_attention_masks])\n",
        "y_pred = np.zeros_like(result)\n",
        "y_pred[np.arange(len(result)), result.argmax(1)] = 1"
      ],
      "execution_count": null,
      "outputs": []
    },
    {
      "cell_type": "code",
      "metadata": {
        "id": "dsph49Nz_7lP",
        "colab": {
          "base_uri": "https://localhost:8080/"
        },
        "outputId": "fb7311a4-7287-4d74-b513-a4d7f584b798"
      },
      "source": [
        "accuracy = accuracy_score(y_test, y_pred)\n",
        "print('Accuracy ', accuracy)\n",
        "f1 = f1_score(y_test, y_pred, average = 'macro')\n",
        "print('F1 Score :', f1)"
      ],
      "execution_count": null,
      "outputs": [
        {
          "output_type": "stream",
          "name": "stdout",
          "text": [
            "Accuracy  0.931\n",
            "F1 Score : 0.8965805964737297\n"
          ]
        }
      ]
    },
    {
      "cell_type": "code",
      "metadata": {
        "id": "7BWVqLzd_8mM",
        "colab": {
          "base_uri": "https://localhost:8080/",
          "height": 69
        },
        "outputId": "20cd2c47-ef48-43a9-93d9-ef1596b73948"
      },
      "source": [
        "classification_report(y_test,y_pred)"
      ],
      "execution_count": null,
      "outputs": [
        {
          "output_type": "execute_result",
          "data": {
            "application/vnd.google.colaboratory.intrinsic+json": {
              "type": "string"
            },
            "text/plain": [
              "'              precision    recall  f1-score   support\\n\\n           0       0.97      0.93      0.95       695\\n           1       0.96      0.98      0.97       581\\n           2       0.95      0.91      0.93       275\\n           3       0.92      0.88      0.90       224\\n           4       0.75      0.92      0.83       159\\n           5       0.75      0.86      0.80        66\\n\\n   micro avg       0.93      0.93      0.93      2000\\n   macro avg       0.89      0.91      0.90      2000\\nweighted avg       0.94      0.93      0.93      2000\\n samples avg       0.93      0.93      0.93      2000\\n'"
            ]
          },
          "metadata": {},
          "execution_count": 238
        }
      ]
    },
    {
      "cell_type": "markdown",
      "metadata": {
        "id": "-CWxv9yIoOFI"
      },
      "source": [
        "              precision    recall  f1-score   support\n",
        "\n",
        "           0       0.97      0.93      0.95       695\n",
        "           1       0.96      0.98      0.97       581\n",
        "           2       0.95      0.91      0.93       275\n",
        "           3       0.92      0.88      0.90       224\n",
        "           4       0.75      0.92      0.83       159\n",
        "           5       0.75      0.86      0.80        66\n",
        "\n",
        "   micro avg       0.93      0.93      0.93      2000\n",
        "   macro avg       0.89      0.91      0.90      2000\n",
        "weighted avg       0.94      0.93      0.93      2000\n",
        " samples avg       0.93      0.93      0.93      2000\n",
        "\n"
      ]
    },
    {
      "cell_type": "code",
      "metadata": {
        "id": "BPuqPzSH_-Dk"
      },
      "source": [
        "y_pred_lab=np.argmax(y_pred, axis = 1)\n",
        "y_test_lab=np.argmax(y_test, axis = 1)\n",
        "conf_matrix=confusion_matrix(y_pred_lab,y_test_lab)"
      ],
      "execution_count": null,
      "outputs": []
    },
    {
      "cell_type": "code",
      "metadata": {
        "colab": {
          "base_uri": "https://localhost:8080/"
        },
        "id": "DAKevX1um7M-",
        "outputId": "01c0ab29-33e1-4681-c87d-5efc7a21e776"
      },
      "source": [
        "conf_matrix=confusion_matrix(y_pred_lab,y_test_lab)\n",
        "conf_matrix"
      ],
      "execution_count": null,
      "outputs": [
        {
          "output_type": "execute_result",
          "data": {
            "text/plain": [
              "array([[644,   3,   5,   0,  11,   3],\n",
              "       [  1, 568,  11,   7,   0,   2],\n",
              "       [  0,   4, 251,   7,   1,   0],\n",
              "       [  0,   4,   8, 196,   0,   4],\n",
              "       [ 47,   1,   0,   0, 146,   0],\n",
              "       [  3,   1,   0,  14,   1,  57]])"
            ]
          },
          "metadata": {},
          "execution_count": 257
        }
      ]
    },
    {
      "cell_type": "code",
      "metadata": {
        "id": "YBEnW4IQm5Cl"
      },
      "source": [
        "feels=['joy', 'sadness','anger','fear','love','surprise']"
      ],
      "execution_count": null,
      "outputs": []
    },
    {
      "cell_type": "code",
      "metadata": {
        "id": "oeQuRD4o__l0",
        "colab": {
          "base_uri": "https://localhost:8080/",
          "height": 415
        },
        "outputId": "933f43af-dfca-4759-cf0f-b7c91cc5bfbf"
      },
      "source": [
        "fig, ax = plt.subplots(figsize=(6, 6))\n",
        "ax.matshow(conf_matrix, cmap=plt.cm.Reds, alpha=0.5)\n",
        "for i in range(conf_matrix.shape[0]):\n",
        "    for j in range(conf_matrix.shape[1]):\n",
        "        ax.text(x=j, y=i,s=conf_matrix[i, j], va='center', ha='center', size='xx-large')\n",
        " \n",
        "plt.xlabel('Predictions', fontsize=18)\n",
        "plt.ylabel('Actuals', fontsize=18)\n",
        "ax.set_xticklabels(['']+feels)\n",
        "ax.set_yticklabels(['']+feels)\n",
        "plt.title('Confusion Matrix', fontsize=18)\n",
        "plt.show()"
      ],
      "execution_count": null,
      "outputs": [
        {
          "output_type": "display_data",
          "data": {
            "image/png": "[encoded data removed]",
            "text/plain": [
              "<Figure size 432x432 with 1 Axes>"
            ]
          },
          "metadata": {
            "needs_background": "light"
          }
        }
      ]
    }
  ]
}